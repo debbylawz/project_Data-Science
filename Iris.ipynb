{
 "cells": [
  {
   "cell_type": "code",
   "execution_count": null,
   "id": "ad24a3de",
   "metadata": {},
   "outputs": [],
   "source": [
    "\"\"\"\n",
    "Created on Sat Sep 12 09:15:03 2020\n",
    "\n",
    "@author: karthi\n",
    "\"\"\""
   ]
  },
  {
   "cell_type": "code",
   "execution_count": null,
   "id": "bb7d8052",
   "metadata": {},
   "outputs": [],
   "source": [
    "import streamlit as st\n",
    "import pandas as pd\n",
    "from sklearn import datasets\n",
    "from sklearn.ensemble import RandomForestClassifier"
   ]
  },
  {
   "cell_type": "code",
   "execution_count": null,
   "id": "40eee594",
   "metadata": {},
   "outputs": [],
   "source": [
    "st.write('''\n",
    "         # Simple Iris Flower Prediction App\n",
    "         This app Predicts Iris Flower Type!\n",
    "         ''')"
   ]
  },
  {
   "cell_type": "code",
   "execution_count": null,
   "id": "7f2ebfcc",
   "metadata": {
    "lines_to_next_cell": 1
   },
   "outputs": [],
   "source": [
    "st.sidebar.header(\"User Input Data\")"
   ]
  },
  {
   "cell_type": "code",
   "execution_count": null,
   "id": "037df1d2",
   "metadata": {
    "lines_to_next_cell": 1
   },
   "outputs": [],
   "source": [
    "def User_Input_features():\n",
    "    Sepal_Length=st.sidebar.slider(\"Sepal Length\",4.3,7.9,5.4)\n",
    "    Sepal_Width= st.sidebar.slider(\"Sepal Width\",2.0,4.4,3.4)\n",
    "    Petal_Length=st.sidebar.slider(\"Petal Length\",1.0,6.9,1.4)\n",
    "    Petal_Width= st.sidebar.slider(\"Petal Width\",0.1,2.5,0.2)\n",
    "    \n",
    "    data={\"Sepal_Length\":Sepal_Length,\n",
    "          \"Sepal_Width\":Sepal_Width,\n",
    "          \"Petal_Length\":Petal_Length,\n",
    "          \"Petal_Width\":Petal_Width\n",
    "        }\n",
    "   \n",
    "    Features=pd.DataFrame(data,index=[0])\n",
    "    return Features"
   ]
  },
  {
   "cell_type": "code",
   "execution_count": null,
   "id": "a0e97c04",
   "metadata": {},
   "outputs": [],
   "source": [
    "df=User_Input_features()\n",
    "st.subheader(\"User Input Data\")\n",
    "st.write(df)"
   ]
  },
  {
   "cell_type": "code",
   "execution_count": null,
   "id": "d01ccdef",
   "metadata": {},
   "outputs": [],
   "source": [
    "iris=datasets.load_iris()\n",
    "X=iris.data\n",
    "Y=iris.target"
   ]
  },
  {
   "cell_type": "code",
   "execution_count": null,
   "id": "b7b99f16",
   "metadata": {},
   "outputs": [],
   "source": [
    "Rd=RandomForestClassifier()\n",
    "Rd.fit(X,Y)"
   ]
  },
  {
   "cell_type": "code",
   "execution_count": null,
   "id": "8b14313d",
   "metadata": {},
   "outputs": [],
   "source": [
    "Prediction=Rd.predict(df)\n",
    "Prediction_prob=Rd.predict_proba(df)"
   ]
  },
  {
   "cell_type": "code",
   "execution_count": null,
   "id": "87eef1a5",
   "metadata": {},
   "outputs": [],
   "source": [
    "st.subheader(\"Types of Flowers with thier corresponding  Index Values\")\n",
    "st.write(iris.target_names)"
   ]
  },
  {
   "cell_type": "code",
   "execution_count": null,
   "id": "b612bd71",
   "metadata": {},
   "outputs": [],
   "source": [
    "st.subheader(\"Predicted Flower\")\n",
    "st.write(iris.target_names[0])"
   ]
  },
  {
   "cell_type": "code",
   "execution_count": null,
   "id": "fe674d0b",
   "metadata": {},
   "outputs": [],
   "source": [
    "st.subheader(\"Prediction Probability Depending On Flower Index Value\")\n",
    "st.write(Prediction_prob)"
   ]
  },
  {
   "cell_type": "code",
   "execution_count": null,
   "id": "c97b130f",
   "metadata": {},
   "outputs": [],
   "source": [
    "page_bg_img = '''\n",
    "<style>\n",
    "body {\n",
    "background-image: url(\"https://i.pinimg.com/originals/18/f6/bb/18f6bb2e4767f2a09bf74b1ada2e5de3.jpg\");\n",
    "background-size: cover;\n",
    "}\n",
    "</style>\n",
    "'''"
   ]
  },
  {
   "cell_type": "code",
   "execution_count": null,
   "id": "8c926f09",
   "metadata": {},
   "outputs": [],
   "source": [
    "st.markdown(page_bg_img, unsafe_allow_html=True)"
   ]
  }
 ],
 "metadata": {
  "jupytext": {
   "cell_metadata_filter": "-all",
   "encoding": "# -*- coding: utf-8 -*-",
   "main_language": "python",
   "notebook_metadata_filter": "-all"
  }
 },
 "nbformat": 4,
 "nbformat_minor": 5
}
